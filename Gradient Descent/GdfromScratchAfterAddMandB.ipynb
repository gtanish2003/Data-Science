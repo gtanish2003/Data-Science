{
 "cells": [
  {
   "cell_type": "code",
   "execution_count": 38,
   "metadata": {},
   "outputs": [],
   "source": [
    "from sklearn.datasets import make_regression\n",
    "import matplotlib.pyplot as plt\n",
    "import numpy as np\n",
    "from sklearn.model_selection import cross_val_score"
   ]
  },
  {
   "cell_type": "code",
   "execution_count": 39,
   "metadata": {},
   "outputs": [],
   "source": [
    "X,y=make_regression(n_samples=100,n_features=1,n_informative=1,n_targets=1,noise=13)"
   ]
  },
  {
   "cell_type": "code",
   "execution_count": 40,
   "metadata": {},
   "outputs": [
    {
     "data": {
      "text/plain": [
       "<matplotlib.collections.PathCollection at 0x199e04025d0>"
      ]
     },
     "execution_count": 40,
     "metadata": {},
     "output_type": "execute_result"
    },
    {
     "data": {
      "image/png": "[encoded data removed]",
      "text/plain": [
       "<Figure size 640x480 with 1 Axes>"
      ]
     },
     "metadata": {},
     "output_type": "display_data"
    }
   ],
   "source": [
    "plt.scatter(X,y)"
   ]
  },
  {
   "cell_type": "code",
   "execution_count": 41,
   "metadata": {},
   "outputs": [],
   "source": [
    "from sklearn.model_selection import train_test_split\n",
    "X_train,X_test,y_train,y_test=train_test_split(X,y,test_size=0.3,random_state=42)"
   ]
  },
  {
   "cell_type": "code",
   "execution_count": 42,
   "metadata": {},
   "outputs": [],
   "source": [
    "from sklearn.linear_model import LinearRegression\n",
    "lr=LinearRegression()"
   ]
  },
  {
   "cell_type": "code",
   "execution_count": 43,
   "metadata": {},
   "outputs": [
    {
     "name": "stdout",
     "output_type": "stream",
     "text": [
      "[64.85336502]\n",
      "-2.958239101332649\n"
     ]
    }
   ],
   "source": [
    "lr.fit(X_train,y_train)\n",
    "print(lr.coef_)\n",
    "print(lr.intercept_)"
   ]
  },
  {
   "cell_type": "code",
   "execution_count": 44,
   "metadata": {},
   "outputs": [
    {
     "name": "stdout",
     "output_type": "stream",
     "text": [
      "0.9518795684105927\n"
     ]
    }
   ],
   "source": [
    "y_pred=lr.predict(X_test)\n",
    "from sklearn.metrics import r2_score\n",
    "print(r2_score(y_test,y_pred))"
   ]
  },
  {
   "cell_type": "code",
   "execution_count": null,
   "metadata": {},
   "outputs": [],
   "source": []
  },
  {
   "cell_type": "code",
   "execution_count": 45,
   "metadata": {},
   "outputs": [],
   "source": [
    "class GDRegressor:\n",
    "\n",
    "    def __init__(self,learning_rate,epochs):\n",
    "        self.m=30\n",
    "        self.b=0\n",
    "        self.lr=learning_rate\n",
    "        self.epochs=epochs\n",
    "    \n",
    "    def fit(self,X,y):\n",
    "        for i in range(self.epochs):\n",
    "            loss_slope_b=-2*np.sum(y-self.m*X.ravel()-self.b)\n",
    "            loss_slope_m=-2*np.sum((y-self.m*X.ravel()-self.b)*X.ravel())\n",
    "            self.b=self.b-(self.lr*loss_slope_b)\n",
    "            self.m=self.m-(self.lr*loss_slope_m)\n",
    "        print(self.m,self.b)\n",
    "\n",
    "\n",
    "    def predict(self,X):\n",
    "        return self.m*X.ravel()+self.b\n",
    "        \n",
    "             \n"
   ]
  },
  {
   "cell_type": "code",
   "execution_count": 46,
   "metadata": {},
   "outputs": [],
   "source": [
    "gd=GDRegressor(0.001,100)"
   ]
  },
  {
   "cell_type": "code",
   "execution_count": 47,
   "metadata": {},
   "outputs": [
    {
     "name": "stdout",
     "output_type": "stream",
     "text": [
      "64.85280363848312 -2.9584693731793794\n"
     ]
    }
   ],
   "source": [
    "gd.fit(X_train,y_train)"
   ]
  },
  {
   "cell_type": "code",
   "execution_count": 48,
   "metadata": {},
   "outputs": [
    {
     "data": {
      "text/plain": [
       "array([-1.96679222e+01,  9.63459533e+00,  4.94408249e+01,  8.71361765e+00,\n",
       "        1.01123165e+02,  5.74335247e+01,  3.28311570e+01, -9.68301942e+01,\n",
       "       -2.47121852e+01, -4.43716066e+00,  8.27590862e+01, -4.74342573e+01,\n",
       "        1.49798690e+01,  6.58535664e-01, -3.02360694e+01,  7.77362363e+01,\n",
       "       -9.94968455e+01,  1.81205947e+01,  4.67647130e+00, -1.27663817e+02,\n",
       "        4.81694341e+01, -9.47953267e+01,  7.87668275e+01, -4.09526664e+01,\n",
       "       -1.02281406e+01, -4.19913780e+01, -1.34413031e+01, -9.31332391e+01,\n",
       "       -2.50813975e+00,  2.12339339e+01,  5.20303879e+01, -2.05412598e+01,\n",
       "        5.42989434e+01,  2.31115412e+01, -5.97726921e+01,  2.00537968e+01,\n",
       "       -2.34561195e+01,  3.76261351e+01,  9.12381525e+01, -7.06733454e+01,\n",
       "       -1.96705696e+01,  9.92437773e+01, -1.48686842e+02, -4.97680115e+01,\n",
       "        2.97293648e+01, -4.67350487e+01, -4.39404725e+01,  2.27901621e+01,\n",
       "       -1.20296274e+00,  4.65864542e+01,  6.05296207e+01, -8.06532842e+01,\n",
       "       -9.09048350e+01, -3.09765494e+00, -5.82412453e+01, -1.22647024e+02,\n",
       "       -1.54690908e+01, -1.58178184e+02,  1.38346513e+01, -1.15551115e+01,\n",
       "        6.68226953e+00, -1.32035570e+02,  1.67311101e+01, -1.50359123e+01,\n",
       "       -1.16555861e+00,  1.09041581e+01, -1.95032967e+01, -4.57009510e+01,\n",
       "       -9.78154161e+01,  3.53301081e+00, -6.24639545e+01,  2.89883361e+01,\n",
       "        5.20100603e+01,  2.59132769e+01, -3.32354086e+01,  5.37671757e+01,\n",
       "       -4.65052015e+01, -8.50085641e+01, -8.05773663e-02, -1.30566401e-01,\n",
       "        4.32077767e+01, -2.15997055e+01,  9.98953774e+01,  4.55329849e+01,\n",
       "       -1.13134496e+01,  4.29382118e+00,  5.94279437e+01, -1.19383073e+01,\n",
       "       -5.04506783e+01,  8.45380183e+00,  4.23366412e+01,  9.15358365e+01,\n",
       "       -6.49813687e+01, -5.96392181e+01,  4.06476267e+01, -7.19681278e+01,\n",
       "       -8.35660265e+01, -3.05754120e+01,  8.66953198e+01,  1.20019825e+01])"
      ]
     },
     "execution_count": 48,
     "metadata": {},
     "output_type": "execute_result"
    }
   ],
   "source": [
    "gd.predict(X)"
   ]
  },
  {
   "cell_type": "code",
   "execution_count": 49,
   "metadata": {},
   "outputs": [
    {
     "name": "stdout",
     "output_type": "stream",
     "text": [
      "0.9518785686132031\n"
     ]
    }
   ],
   "source": [
    "y_pred=gd.predict(X_test)\n",
    "from sklearn.metrics import r2_score\n",
    "print(r2_score(y_test,y_pred))"
   ]
  },
  {
   "cell_type": "code",
   "execution_count": null,
   "metadata": {},
   "outputs": [],
   "source": []
  }
 ],
 "metadata": {
  "kernelspec": {
   "display_name": "Python 3",
   "language": "python",
   "name": "python3"
  },
  "language_info": {
   "codemirror_mode": {
    "name": "ipython",
    "version": 3
   },
   "file_extension": ".py",
   "mimetype": "text/x-python",
   "name": "python",
   "nbconvert_exporter": "python",
   "pygments_lexer": "ipython3",
   "version": "3.11.3"
  }
 },
 "nbformat": 4,
 "nbformat_minor": 2
}
