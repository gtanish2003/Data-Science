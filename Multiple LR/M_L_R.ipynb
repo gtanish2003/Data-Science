{
 "cells": [
  {
   "cell_type": "code",
   "execution_count": 1,
   "metadata": {},
   "outputs": [],
   "source": [
    "from sklearn.datasets import make_regression\n",
    "import numpy as np\n",
    "import pandas as pd\n",
    "import plotly.express as px\n",
    "import plotly.graph_objects as go\n",
    "\n",
    "from sklearn.metrics import mean_squared_error,mean_absolute_error,r2_score"
   ]
  },
  {
   "cell_type": "code",
   "execution_count": 3,
   "metadata": {},
   "outputs": [],
   "source": [
    "X,y=make_regression(n_samples=100,n_features=2,n_informative=2,n_targets=1,noise=50)"
   ]
  },
  {
   "cell_type": "code",
   "execution_count": 4,
   "metadata": {},
   "outputs": [],
   "source": [
    "df=pd.DataFrame({'features1':X[:,0],'features2':X[:,1],'target':y})"
   ]
  },
  {
   "cell_type": "code",
   "execution_count": 5,
   "metadata": {},
   "outputs": [
    {
     "data": {
      "text/html": [
       "<div>\n",
       "<style scoped>\n",
       "    .dataframe tbody tr th:only-of-type {\n",
       "        vertical-align: middle;\n",
       "    }\n",
       "\n",
       "    .dataframe tbody tr th {\n",
       "        vertical-align: top;\n",
       "    }\n",
       "\n",
       "    .dataframe thead th {\n",
       "        text-align: right;\n",
       "    }\n",
       "</style>\n",
       "<table border=\"1\" class=\"dataframe\">\n",
       "  <thead>\n",
       "    <tr style=\"text-align: right;\">\n",
       "      <th></th>\n",
       "      <th>features1</th>\n",
       "      <th>features2</th>\n",
       "      <th>target</th>\n",
       "    </tr>\n",
       "  </thead>\n",
       "  <tbody>\n",
       "    <tr>\n",
       "      <th>0</th>\n",
       "      <td>1.517249</td>\n",
       "      <td>-0.671547</td>\n",
       "      <td>50.625756</td>\n",
       "    </tr>\n",
       "    <tr>\n",
       "      <th>1</th>\n",
       "      <td>-0.105645</td>\n",
       "      <td>-0.000802</td>\n",
       "      <td>-41.127004</td>\n",
       "    </tr>\n",
       "    <tr>\n",
       "      <th>2</th>\n",
       "      <td>-1.433782</td>\n",
       "      <td>0.860449</td>\n",
       "      <td>-62.598585</td>\n",
       "    </tr>\n",
       "    <tr>\n",
       "      <th>3</th>\n",
       "      <td>0.686191</td>\n",
       "      <td>-0.909055</td>\n",
       "      <td>-94.016601</td>\n",
       "    </tr>\n",
       "    <tr>\n",
       "      <th>4</th>\n",
       "      <td>0.303230</td>\n",
       "      <td>-0.633491</td>\n",
       "      <td>-18.123401</td>\n",
       "    </tr>\n",
       "  </tbody>\n",
       "</table>\n",
       "</div>"
      ],
      "text/plain": [
       "   features1  features2     target\n",
       "0   1.517249  -0.671547  50.625756\n",
       "1  -0.105645  -0.000802 -41.127004\n",
       "2  -1.433782   0.860449 -62.598585\n",
       "3   0.686191  -0.909055 -94.016601\n",
       "4   0.303230  -0.633491 -18.123401"
      ]
     },
     "execution_count": 5,
     "metadata": {},
     "output_type": "execute_result"
    }
   ],
   "source": [
    "df.head()"
   ]
  },
  {
   "cell_type": "code",
   "execution_count": 6,
   "metadata": {},
   "outputs": [
    {
     "data": {
      "text/plain": [
       "(100, 3)"
      ]
     },
     "execution_count": 6,
     "metadata": {},
     "output_type": "execute_result"
    }
   ],
   "source": [
    "df.shape"
   ]
  },
  {
   "cell_type": "code",
   "execution_count": 7,
   "metadata": {},
   "outputs": [
    {
     "data": {
      "application/vnd.plotly.v1+json": {
       "config": {
        "plotlyServerURL": "https://plot.ly"
       },
       "data": [
        {
         "hovertemplate": "features1=%{x}<br>features2=%{y}<br>target=%{z}<extra></extra>",
         "legendgroup": "",
         "marker": {
          "color": "#636efa",
          "symbol": "circle"
         },
         "mode": "markers",
         "name": "",
         "scene": "scene",
         "showlegend": false,
         "type": "scatter3d",
         "x": [
          1.5172489557376025,
          -0.10564453108059121,
          -1.4337822724019729,
          0.6861913247254345,
          0.30323043866733845,
          1.1244154134948907,
          0.41905352932373113,
          -1.437049734055518,
          0.6553458700061483,
          0.48226106204419344,
          2.631491820565567,
          0.15887611804534768,
          -0.05995556638934002,
          -0.6532594273625736,
          0.2536613371877316,
          -0.6853741680498039,
          1.3106995541802893,
          -0.16439704127576027,
          0.3156220763155691,
          -0.6686999387142226,
          0.06260463443654506,
          -0.12686330972457682,
          -0.30779740064186795,
          -0.8418729095532879,
          0.26254360728413495,
          0.9988657050667947,
          -0.5706811854375964,
          -0.3507110279085614,
          -0.27654461313907897,
          -0.2740656557237422,
          1.1223558352675138,
          -0.6231415231762976,
          0.28646675534922317,
          -1.2435400291582877,
          -2.084362597462603,
          -0.3414814354373552,
          -1.5970771442205896,
          1.7502351657357373,
          0.8272591094156599,
          1.6968525327540147,
          -0.5498639885068672,
          0.42378620925243254,
          -0.18808884568593276,
          1.2672000079706354,
          -0.7674212825251933,
          -1.6288424519908633,
          -0.27058303331727535,
          0.5406240059218094,
          -0.3261001364778788,
          -0.5566361819288905,
          -0.19533309626193518,
          0.42807415952941735,
          -0.49988141600558045,
          -0.12396550604431915,
          -0.835297714185431,
          1.034344715408749,
          1.5005387144861366,
          1.3135423163928297,
          0.0714814518888541,
          -0.9436289430423717,
          -1.4776153896990973,
          1.084716578083348,
          0.021221265364736928,
          -0.8322905224201301,
          0.24079852917900396,
          0.4339456871714849,
          0.4602709847008207,
          0.3991059282482683,
          0.7944947348528505,
          0.1045954864673156,
          0.5144254583208872,
          -1.3572395528139622,
          -0.28773155919747967,
          2.1085997547251107,
          0.38061711208683563,
          0.7884589597198923,
          -0.3698302807984111,
          0.3764728282438455,
          0.661686138314875,
          0.10259096181595637,
          -1.3627712137348682,
          -0.3531086197146964,
          1.590933673979694,
          -0.6508129040449687,
          2.301098833504861,
          0.7586594789243861,
          2.0543931510986733,
          0.4133028025397809,
          -1.0672322438828008,
          -0.077942678033842,
          0.13930497563268943,
          0.6121931942594853,
          0.1080274893462382,
          2.724049297213376,
          0.3131994731331599,
          -0.08016694451515405,
          -0.718139624127831,
          0.11441707007946608,
          -0.18970947716336387,
          -1.2053442656263693
         ],
         "y": [
          -0.6715472393396041,
          -0.000801722964834041,
          0.8604493355605674,
          -0.9090550524508654,
          -0.6334909279376151,
          1.2992352490533214,
          0.8848030887685948,
          -0.9970985993352633,
          0.4661684375364792,
          0.4627424897518874,
          0.10399312860384523,
          -0.4764276634231256,
          0.09795137285263107,
          -0.772046078849473,
          1.2121253827681209,
          0.5503383272445095,
          1.2605420343249443,
          0.3256966425315218,
          1.404530241943052,
          -0.19565669581961245,
          1.1242909481691936,
          -0.012005668826752842,
          0.27342403242693686,
          0.7425881605694683,
          1.276478413136653,
          -0.7688967395232191,
          -0.6801285208548822,
          -0.9531189827144676,
          -0.1929734522043615,
          -0.06298121017442079,
          -1.2431387599680561,
          1.2592399155751197,
          -1.2648252760842968,
          0.773062633314733,
          0.06358690157914258,
          -0.20792620777631987,
          0.677085587706638,
          0.3977352944306208,
          -0.6513685796364292,
          -0.9097777185748435,
          -1.6644543975524542,
          -1.3280810566206869,
          0.3720490925698776,
          -0.3095288669909225,
          0.08304374176956202,
          0.3557734693465279,
          0.8549086696916325,
          1.3754368721749597,
          0.4693278196193251,
          -0.13958815029234828,
          -1.0370244961507826,
          0.2963594837111781,
          1.1013156492036626,
          -0.6299899605228564,
          0.2146501616389212,
          0.2582867863854901,
          -0.6987336938007087,
          0.7409925613551784,
          -0.5095559872068226,
          -1.074679342057831,
          0.9759858600738766,
          -0.6343198834069638,
          0.8043384429586501,
          0.4758225944096993,
          -1.1404330972621182,
          -2.7043017036923604,
          -0.6170492676094651,
          -0.009336880677463062,
          0.5182342292979836,
          -0.6646328921947887,
          0.9210499175516096,
          1.0872176518484207,
          0.026504070523214983,
          -1.3652819579702038,
          0.8316097096947186,
          0.6489702412473473,
          0.4728518102185229,
          -0.021824576289325038,
          0.4762488386101103,
          0.3262549783534837,
          -0.3269326929892711,
          0.4464543584926771,
          0.5603702921711851,
          0.09107743690801422,
          1.5385865739892959,
          -0.1335105242542267,
          -1.2694421483604552,
          -0.1269979826032307,
          1.4176588730373763,
          0.08324478186572179,
          -0.8574103110800388,
          0.6508930811498723,
          0.8619689080385344,
          -0.2647000875833217,
          0.6411091368318452,
          0.1852223587080473,
          -1.214543480063297,
          0.35571307447409406,
          -0.10829819644121415,
          -2.032426046200222
         ],
         "z": [
          50.62575605146459,
          -41.12700395947534,
          -62.59858476769969,
          -94.01660111458452,
          -18.12340095611593,
          78.54667985117757,
          65.24065477401503,
          -96.7478052421465,
          -2.0145953754427133,
          -67.16680624887921,
          171.02938816290853,
          61.78633493813626,
          15.321203642232849,
          -43.269309866204594,
          39.01043039648381,
          -50.84628205851169,
          84.45273594867818,
          -48.306194910351806,
          -98.39053232815937,
          68.82518122139939,
          -18.450150396141677,
          39.84863707619063,
          -80.94858915132023,
          11.28186008051199,
          28.905687590873914,
          52.80219824272906,
          -42.50762281990087,
          -4.671234669575249,
          -2.8185831323099997,
          51.54945826343021,
          156.1011092853151,
          -1.802485791101823,
          69.04791952660636,
          35.70553182002904,
          -129.88642175233872,
          24.734940602842514,
          11.18205417756991,
          120.56834042126434,
          60.85357535635176,
          122.58954199720371,
          53.5107325804343,
          98.23570385578856,
          39.176828356905986,
          88.9930777604737,
          -8.668137951608248,
          -48.40511222428201,
          9.65517311368291,
          -62.549330510054745,
          50.4215267955103,
          -22.4641803653988,
          31.998628984041776,
          -27.531096284653156,
          84.1083198462355,
          -69.04642038072954,
          -85.35142382974288,
          97.26003724470351,
          -24.600665513922948,
          6.187416875995702,
          25.968895792675674,
          4.195452810708069,
          -89.62455403786419,
          37.125806186088056,
          1.545284549704137,
          -6.011587552049583,
          13.220602891095204,
          15.717285463846764,
          -57.297506890834704,
          70.19082879246274,
          40.31943593446726,
          -70.99127149447048,
          48.71833660343569,
          -58.12844488591692,
          41.727391323659496,
          11.283027782251068,
          7.530090634826255,
          1.3560475339907612,
          82.07459929350226,
          27.177815066038278,
          55.3390287497174,
          29.478664762296464,
          -6.91757929876173,
          -59.985559181011894,
          14.113744404439693,
          -98.52538496546212,
          68.14044438014595,
          51.786281097005926,
          120.71995318157714,
          82.26293384540901,
          69.70961967909585,
          -9.391461535094685,
          37.5196425156508,
          -13.283867956733577,
          76.88661466205161,
          149.6968380755268,
          37.19884660912585,
          -6.8408088214962675,
          -36.96864652365507,
          -110.22494489097843,
          -39.835321961267496,
          -115.01140050153032
         ]
        }
       ],
       "layout": {
        "legend": {
         "tracegroupgap": 0
        },
        "margin": {
         "t": 60
        },
        "scene": {
         "domain": {
          "x": [
           0,
           1
          ],
          "y": [
           0,
           1
          ]
         },
         "xaxis": {
          "title": {
           "text": "features1"
          }
         },
         "yaxis": {
          "title": {
           "text": "features2"
          }
         },
         "zaxis": {
          "title": {
           "text": "target"
          }
         }
        },
        "template": {
         "data": {
          "bar": [
           {
            "error_x": {
             "color": "#2a3f5f"
            },
            "error_y": {
             "color": "#2a3f5f"
            },
            "marker": {
             "line": {
              "color": "#E5ECF6",
              "width": 0.5
             },
             "pattern": {
              "fillmode": "overlay",
              "size": 10,
              "solidity": 0.2
             }
            },
            "type": "bar"
           }
          ],
          "barpolar": [
           {
            "marker": {
             "line": {
              "color": "#E5ECF6",
              "width": 0.5
             },
             "pattern": {
              "fillmode": "overlay",
              "size": 10,
              "solidity": 0.2
             }
            },
            "type": "barpolar"
           }
          ],
          "carpet": [
           {
            "aaxis": {
             "endlinecolor": "#2a3f5f",
             "gridcolor": "white",
             "linecolor": "white",
             "minorgridcolor": "white",
             "startlinecolor": "#2a3f5f"
            },
            "baxis": {
             "endlinecolor": "#2a3f5f",
             "gridcolor": "white",
             "linecolor": "white",
             "minorgridcolor": "white",
             "startlinecolor": "#2a3f5f"
            },
            "type": "carpet"
           }
          ],
          "choropleth": [
           {
            "colorbar": {
             "outlinewidth": 0,
             "ticks": ""
            },
            "type": "choropleth"
           }
          ],
          "contour": [
           {
            "colorbar": {
             "outlinewidth": 0,
             "ticks": ""
            },
            "colorscale": [
             [
              0,
              "#0d0887"
             ],
             [
              0.1111111111111111,
              "#46039f"
             ],
             [
              0.2222222222222222,
              "#7201a8"
             ],
             [
              0.3333333333333333,
              "#9c179e"
             ],
             [
              0.4444444444444444,
              "#bd3786"
             ],
             [
              0.5555555555555556,
              "#d8576b"
             ],
             [
              0.6666666666666666,
              "#ed7953"
             ],
             [
              0.7777777777777778,
              "#fb9f3a"
             ],
             [
              0.8888888888888888,
              "#fdca26"
             ],
             [
              1,
              "#f0f921"
             ]
            ],
            "type": "contour"
           }
          ],
          "contourcarpet": [
           {
            "colorbar": {
             "outlinewidth": 0,
             "ticks": ""
            },
            "type": "contourcarpet"
           }
          ],
          "heatmap": [
           {
            "colorbar": {
             "outlinewidth": 0,
             "ticks": ""
            },
            "colorscale": [
             [
              0,
              "#0d0887"
             ],
             [
              0.1111111111111111,
              "#46039f"
             ],
             [
              0.2222222222222222,
              "#7201a8"
             ],
             [
              0.3333333333333333,
              "#9c179e"
             ],
             [
              0.4444444444444444,
              "#bd3786"
             ],
             [
              0.5555555555555556,
              "#d8576b"
             ],
             [
              0.6666666666666666,
              "#ed7953"
             ],
             [
              0.7777777777777778,
              "#fb9f3a"
             ],
             [
              0.8888888888888888,
              "#fdca26"
             ],
             [
              1,
              "#f0f921"
             ]
            ],
            "type": "heatmap"
           }
          ],
          "heatmapgl": [
           {
            "colorbar": {
             "outlinewidth": 0,
             "ticks": ""
            },
            "colorscale": [
             [
              0,
              "#0d0887"
             ],
             [
              0.1111111111111111,
              "#46039f"
             ],
             [
              0.2222222222222222,
              "#7201a8"
             ],
             [
              0.3333333333333333,
              "#9c179e"
             ],
             [
              0.4444444444444444,
              "#bd3786"
             ],
             [
              0.5555555555555556,
              "#d8576b"
             ],
             [
              0.6666666666666666,
              "#ed7953"
             ],
             [
              0.7777777777777778,
              "#fb9f3a"
             ],
             [
              0.8888888888888888,
              "#fdca26"
             ],
             [
              1,
              "#f0f921"
             ]
            ],
            "type": "heatmapgl"
           }
          ],
          "histogram": [
           {
            "marker": {
             "pattern": {
              "fillmode": "overlay",
              "size": 10,
              "solidity": 0.2
             }
            },
            "type": "histogram"
           }
          ],
          "histogram2d": [
           {
            "colorbar": {
             "outlinewidth": 0,
             "ticks": ""
            },
            "colorscale": [
             [
              0,
              "#0d0887"
             ],
             [
              0.1111111111111111,
              "#46039f"
             ],
             [
              0.2222222222222222,
              "#7201a8"
             ],
             [
              0.3333333333333333,
              "#9c179e"
             ],
             [
              0.4444444444444444,
              "#bd3786"
             ],
             [
              0.5555555555555556,
              "#d8576b"
             ],
             [
              0.6666666666666666,
              "#ed7953"
             ],
             [
              0.7777777777777778,
              "#fb9f3a"
             ],
             [
              0.8888888888888888,
              "#fdca26"
             ],
             [
              1,
              "#f0f921"
             ]
            ],
            "type": "histogram2d"
           }
          ],
          "histogram2dcontour": [
           {
            "colorbar": {
             "outlinewidth": 0,
             "ticks": ""
            },
            "colorscale": [
             [
              0,
              "#0d0887"
             ],
             [
              0.1111111111111111,
              "#46039f"
             ],
             [
              0.2222222222222222,
              "#7201a8"
             ],
             [
              0.3333333333333333,
              "#9c179e"
             ],
             [
              0.4444444444444444,
              "#bd3786"
             ],
             [
              0.5555555555555556,
              "#d8576b"
             ],
             [
              0.6666666666666666,
              "#ed7953"
             ],
             [
              0.7777777777777778,
              "#fb9f3a"
             ],
             [
              0.8888888888888888,
              "#fdca26"
             ],
             [
              1,
              "#f0f921"
             ]
            ],
            "type": "histogram2dcontour"
           }
          ],
          "mesh3d": [
           {
            "colorbar": {
             "outlinewidth": 0,
             "ticks": ""
            },
            "type": "mesh3d"
           }
          ],
          "parcoords": [
           {
            "line": {
             "colorbar": {
              "outlinewidth": 0,
              "ticks": ""
             }
            },
            "type": "parcoords"
           }
          ],
          "pie": [
           {
            "automargin": true,
            "type": "pie"
           }
          ],
          "scatter": [
           {
            "fillpattern": {
             "fillmode": "overlay",
             "size": 10,
             "solidity": 0.2
            },
            "type": "scatter"
           }
          ],
          "scatter3d": [
           {
            "line": {
             "colorbar": {
              "outlinewidth": 0,
              "ticks": ""
             }
            },
            "marker": {
             "colorbar": {
              "outlinewidth": 0,
              "ticks": ""
             }
            },
            "type": "scatter3d"
           }
          ],
          "scattercarpet": [
           {
            "marker": {
             "colorbar": {
              "outlinewidth": 0,
              "ticks": ""
             }
            },
            "type": "scattercarpet"
           }
          ],
          "scattergeo": [
           {
            "marker": {
             "colorbar": {
              "outlinewidth": 0,
              "ticks": ""
             }
            },
            "type": "scattergeo"
           }
          ],
          "scattergl": [
           {
            "marker": {
             "colorbar": {
              "outlinewidth": 0,
              "ticks": ""
             }
            },
            "type": "scattergl"
           }
          ],
          "scattermapbox": [
           {
            "marker": {
             "colorbar": {
              "outlinewidth": 0,
              "ticks": ""
             }
            },
            "type": "scattermapbox"
           }
          ],
          "scatterpolar": [
           {
            "marker": {
             "colorbar": {
              "outlinewidth": 0,
              "ticks": ""
             }
            },
            "type": "scatterpolar"
           }
          ],
          "scatterpolargl": [
           {
            "marker": {
             "colorbar": {
              "outlinewidth": 0,
              "ticks": ""
             }
            },
            "type": "scatterpolargl"
           }
          ],
          "scatterternary": [
           {
            "marker": {
             "colorbar": {
              "outlinewidth": 0,
              "ticks": ""
             }
            },
            "type": "scatterternary"
           }
          ],
          "surface": [
           {
            "colorbar": {
             "outlinewidth": 0,
             "ticks": ""
            },
            "colorscale": [
             [
              0,
              "#0d0887"
             ],
             [
              0.1111111111111111,
              "#46039f"
             ],
             [
              0.2222222222222222,
              "#7201a8"
             ],
             [
              0.3333333333333333,
              "#9c179e"
             ],
             [
              0.4444444444444444,
              "#bd3786"
             ],
             [
              0.5555555555555556,
              "#d8576b"
             ],
             [
              0.6666666666666666,
              "#ed7953"
             ],
             [
              0.7777777777777778,
              "#fb9f3a"
             ],
             [
              0.8888888888888888,
              "#fdca26"
             ],
             [
              1,
              "#f0f921"
             ]
            ],
            "type": "surface"
           }
          ],
          "table": [
           {
            "cells": {
             "fill": {
              "color": "#EBF0F8"
             },
             "line": {
              "color": "white"
             }
            },
            "header": {
             "fill": {
              "color": "#C8D4E3"
             },
             "line": {
              "color": "white"
             }
            },
            "type": "table"
           }
          ]
         },
         "layout": {
          "annotationdefaults": {
           "arrowcolor": "#2a3f5f",
           "arrowhead": 0,
           "arrowwidth": 1
          },
          "autotypenumbers": "strict",
          "coloraxis": {
           "colorbar": {
            "outlinewidth": 0,
            "ticks": ""
           }
          },
          "colorscale": {
           "diverging": [
            [
             0,
             "#8e0152"
            ],
            [
             0.1,
             "#c51b7d"
            ],
            [
             0.2,
             "#de77ae"
            ],
            [
             0.3,
             "#f1b6da"
            ],
            [
             0.4,
             "#fde0ef"
            ],
            [
             0.5,
             "#f7f7f7"
            ],
            [
             0.6,
             "#e6f5d0"
            ],
            [
             0.7,
             "#b8e186"
            ],
            [
             0.8,
             "#7fbc41"
            ],
            [
             0.9,
             "#4d9221"
            ],
            [
             1,
             "#276419"
            ]
           ],
           "sequential": [
            [
             0,
             "#0d0887"
            ],
            [
             0.1111111111111111,
             "#46039f"
            ],
            [
             0.2222222222222222,
             "#7201a8"
            ],
            [
             0.3333333333333333,
             "#9c179e"
            ],
            [
             0.4444444444444444,
             "#bd3786"
            ],
            [
             0.5555555555555556,
             "#d8576b"
            ],
            [
             0.6666666666666666,
             "#ed7953"
            ],
            [
             0.7777777777777778,
             "#fb9f3a"
            ],
            [
             0.8888888888888888,
             "#fdca26"
            ],
            [
             1,
             "#f0f921"
            ]
           ],
           "sequentialminus": [
            [
             0,
             "#0d0887"
            ],
            [
             0.1111111111111111,
             "#46039f"
            ],
            [
             0.2222222222222222,
             "#7201a8"
            ],
            [
             0.3333333333333333,
             "#9c179e"
            ],
            [
             0.4444444444444444,
             "#bd3786"
            ],
            [
             0.5555555555555556,
             "#d8576b"
            ],
            [
             0.6666666666666666,
             "#ed7953"
            ],
            [
             0.7777777777777778,
             "#fb9f3a"
            ],
            [
             0.8888888888888888,
             "#fdca26"
            ],
            [
             1,
             "#f0f921"
            ]
           ]
          },
          "colorway": [
           "#636efa",
           "#EF553B",
           "#00cc96",
           "#ab63fa",
           "#FFA15A",
           "#19d3f3",
           "#FF6692",
           "#B6E880",
           "#FF97FF",
           "#FECB52"
          ],
          "font": {
           "color": "#2a3f5f"
          },
          "geo": {
           "bgcolor": "white",
           "lakecolor": "white",
           "landcolor": "#E5ECF6",
           "showlakes": true,
           "showland": true,
           "subunitcolor": "white"
          },
          "hoverlabel": {
           "align": "left"
          },
          "hovermode": "closest",
          "mapbox": {
           "style": "light"
          },
          "paper_bgcolor": "white",
          "plot_bgcolor": "#E5ECF6",
          "polar": {
           "angularaxis": {
            "gridcolor": "white",
            "linecolor": "white",
            "ticks": ""
           },
           "bgcolor": "#E5ECF6",
           "radialaxis": {
            "gridcolor": "white",
            "linecolor": "white",
            "ticks": ""
           }
          },
          "scene": {
           "xaxis": {
            "backgroundcolor": "#E5ECF6",
            "gridcolor": "white",
            "gridwidth": 2,
            "linecolor": "white",
            "showbackground": true,
            "ticks": "",
            "zerolinecolor": "white"
           },
           "yaxis": {
            "backgroundcolor": "#E5ECF6",
            "gridcolor": "white",
            "gridwidth": 2,
            "linecolor": "white",
            "showbackground": true,
            "ticks": "",
            "zerolinecolor": "white"
           },
           "zaxis": {
            "backgroundcolor": "#E5ECF6",
            "gridcolor": "white",
            "gridwidth": 2,
            "linecolor": "white",
            "showbackground": true,
            "ticks": "",
            "zerolinecolor": "white"
           }
          },
          "shapedefaults": {
           "line": {
            "color": "#2a3f5f"
           }
          },
          "ternary": {
           "aaxis": {
            "gridcolor": "white",
            "linecolor": "white",
            "ticks": ""
           },
           "baxis": {
            "gridcolor": "white",
            "linecolor": "white",
            "ticks": ""
           },
           "bgcolor": "#E5ECF6",
           "caxis": {
            "gridcolor": "white",
            "linecolor": "white",
            "ticks": ""
           }
          },
          "title": {
           "x": 0.05
          },
          "xaxis": {
           "automargin": true,
           "gridcolor": "white",
           "linecolor": "white",
           "ticks": "",
           "title": {
            "standoff": 15
           },
           "zerolinecolor": "white",
           "zerolinewidth": 2
          },
          "yaxis": {
           "automargin": true,
           "gridcolor": "white",
           "linecolor": "white",
           "ticks": "",
           "title": {
            "standoff": 15
           },
           "zerolinecolor": "white",
           "zerolinewidth": 2
          }
         }
        }
       }
      }
     },
     "metadata": {},
     "output_type": "display_data"
    }
   ],
   "source": [
    "fig=px.scatter_3d(df,x='features1',y='features2',z='target')\n",
    "fig.show()"
   ]
  },
  {
   "cell_type": "code",
   "execution_count": 8,
   "metadata": {},
   "outputs": [],
   "source": [
    "from sklearn.model_selection import train_test_split\n",
    "X_train,X_test,y_train,y_test=train_test_split(X,y,test_size=0.2,random_state=5)"
   ]
  },
  {
   "cell_type": "code",
   "execution_count": 9,
   "metadata": {},
   "outputs": [],
   "source": [
    "from sklearn.linear_model import LinearRegression"
   ]
  },
  {
   "cell_type": "code",
   "execution_count": 10,
   "metadata": {},
   "outputs": [],
   "source": [
    "lr=LinearRegression()"
   ]
  },
  {
   "cell_type": "code",
   "execution_count": 11,
   "metadata": {},
   "outputs": [
    {
     "data": {
      "text/html": [
       "<style>#sk-container-id-1 {color: black;}#sk-container-id-1 pre{padding: 0;}#sk-container-id-1 div.sk-toggleable {background-color: white;}#sk-container-id-1 label.sk-toggleable__label {cursor: pointer;display: block;width: 100%;margin-bottom: 0;padding: 0.3em;box-sizing: border-box;text-align: center;}#sk-container-id-1 label.sk-toggleable__label-arrow:before {content: \"▸\";float: left;margin-right: 0.25em;color: #696969;}#sk-container-id-1 label.sk-toggleable__label-arrow:hover:before {color: black;}#sk-container-id-1 div.sk-estimator:hover label.sk-toggleable__label-arrow:before {color: black;}#sk-container-id-1 div.sk-toggleable__content {max-height: 0;max-width: 0;overflow: hidden;text-align: left;background-color: #f0f8ff;}#sk-container-id-1 div.sk-toggleable__content pre {margin: 0.2em;color: black;border-radius: 0.25em;background-color: #f0f8ff;}#sk-container-id-1 input.sk-toggleable__control:checked~div.sk-toggleable__content {max-height: 200px;max-width: 100%;overflow: auto;}#sk-container-id-1 input.sk-toggleable__control:checked~label.sk-toggleable__label-arrow:before {content: \"▾\";}#sk-container-id-1 div.sk-estimator input.sk-toggleable__control:checked~label.sk-toggleable__label {background-color: #d4ebff;}#sk-container-id-1 div.sk-label input.sk-toggleable__control:checked~label.sk-toggleable__label {background-color: #d4ebff;}#sk-container-id-1 input.sk-hidden--visually {border: 0;clip: rect(1px 1px 1px 1px);clip: rect(1px, 1px, 1px, 1px);height: 1px;margin: -1px;overflow: hidden;padding: 0;position: absolute;width: 1px;}#sk-container-id-1 div.sk-estimator {font-family: monospace;background-color: #f0f8ff;border: 1px dotted black;border-radius: 0.25em;box-sizing: border-box;margin-bottom: 0.5em;}#sk-container-id-1 div.sk-estimator:hover {background-color: #d4ebff;}#sk-container-id-1 div.sk-parallel-item::after {content: \"\";width: 100%;border-bottom: 1px solid gray;flex-grow: 1;}#sk-container-id-1 div.sk-label:hover label.sk-toggleable__label {background-color: #d4ebff;}#sk-container-id-1 div.sk-serial::before {content: \"\";position: absolute;border-left: 1px solid gray;box-sizing: border-box;top: 0;bottom: 0;left: 50%;z-index: 0;}#sk-container-id-1 div.sk-serial {display: flex;flex-direction: column;align-items: center;background-color: white;padding-right: 0.2em;padding-left: 0.2em;position: relative;}#sk-container-id-1 div.sk-item {position: relative;z-index: 1;}#sk-container-id-1 div.sk-parallel {display: flex;align-items: stretch;justify-content: center;background-color: white;position: relative;}#sk-container-id-1 div.sk-item::before, #sk-container-id-1 div.sk-parallel-item::before {content: \"\";position: absolute;border-left: 1px solid gray;box-sizing: border-box;top: 0;bottom: 0;left: 50%;z-index: -1;}#sk-container-id-1 div.sk-parallel-item {display: flex;flex-direction: column;z-index: 1;position: relative;background-color: white;}#sk-container-id-1 div.sk-parallel-item:first-child::after {align-self: flex-end;width: 50%;}#sk-container-id-1 div.sk-parallel-item:last-child::after {align-self: flex-start;width: 50%;}#sk-container-id-1 div.sk-parallel-item:only-child::after {width: 0;}#sk-container-id-1 div.sk-dashed-wrapped {border: 1px dashed gray;margin: 0 0.4em 0.5em 0.4em;box-sizing: border-box;padding-bottom: 0.4em;background-color: white;}#sk-container-id-1 div.sk-label label {font-family: monospace;font-weight: bold;display: inline-block;line-height: 1.2em;}#sk-container-id-1 div.sk-label-container {text-align: center;}#sk-container-id-1 div.sk-container {/* jupyter's `normalize.less` sets `[hidden] { display: none; }` but bootstrap.min.css set `[hidden] { display: none !important; }` so we also need the `!important` here to be able to override the default hidden behavior on the sphinx rendered scikit-learn.org. See: https://github.com/scikit-learn/scikit-learn/issues/21755 */display: inline-block !important;position: relative;}#sk-container-id-1 div.sk-text-repr-fallback {display: none;}</style><div id=\"sk-container-id-1\" class=\"sk-top-container\"><div class=\"sk-text-repr-fallback\"><pre>LinearRegression()</pre><b>In a Jupyter environment, please rerun this cell to show the HTML representation or trust the notebook. <br />On GitHub, the HTML representation is unable to render, please try loading this page with nbviewer.org.</b></div><div class=\"sk-container\" hidden><div class=\"sk-item\"><div class=\"sk-estimator sk-toggleable\"><input class=\"sk-toggleable__control sk-hidden--visually\" id=\"sk-estimator-id-1\" type=\"checkbox\" checked><label for=\"sk-estimator-id-1\" class=\"sk-toggleable__label sk-toggleable__label-arrow\">LinearRegression</label><div class=\"sk-toggleable__content\"><pre>LinearRegression()</pre></div></div></div></div></div>"
      ],
      "text/plain": [
       "LinearRegression()"
      ]
     },
     "execution_count": 11,
     "metadata": {},
     "output_type": "execute_result"
    }
   ],
   "source": [
    "lr.fit(X_train,y_train)"
   ]
  },
  {
   "cell_type": "code",
   "execution_count": 12,
   "metadata": {},
   "outputs": [],
   "source": [
    "y_pred=lr.predict(X_test)"
   ]
  },
  {
   "cell_type": "code",
   "execution_count": 13,
   "metadata": {},
   "outputs": [
    {
     "name": "stdout",
     "output_type": "stream",
     "text": [
      "Mean Squared Error: 3061.9967427934744\n",
      "Mean Absolute Error: 46.575855431484214\n",
      "R2 Score: 0.41355368873202414\n"
     ]
    }
   ],
   "source": [
    "print('Mean Squared Error:',mean_squared_error(y_test,y_pred))\n",
    "print('Mean Absolute Error:',mean_absolute_error(y_test,y_pred))\n",
    "print('R2 Score:',r2_score(y_test,y_pred))"
   ]
  },
  {
   "cell_type": "code",
   "execution_count": 16,
   "metadata": {},
   "outputs": [
    {
     "data": {
      "application/vnd.plotly.v1+json": {
       "config": {
        "plotlyServerURL": "https://plot.ly"
       },
       "data": [
        {
         "hovertemplate": "features1=%{x}<br>features2=%{y}<br>target=%{z}<extra></extra>",
         "legendgroup": "",
         "marker": {
          "color": "#636efa",
          "symbol": "circle"
         },
         "mode": "markers",
         "name": "",
         "scene": "scene",
         "showlegend": false,
         "type": "scatter3d",
         "x": [
          1.5172489557376025,
          -0.10564453108059121,
          -1.4337822724019729,
          0.6861913247254345,
          0.30323043866733845,
          1.1244154134948907,
          0.41905352932373113,
          -1.437049734055518,
          0.6553458700061483,
          0.48226106204419344,
          2.631491820565567,
          0.15887611804534768,
          -0.05995556638934002,
          -0.6532594273625736,
          0.2536613371877316,
          -0.6853741680498039,
          1.3106995541802893,
          -0.16439704127576027,
          0.3156220763155691,
          -0.6686999387142226,
          0.06260463443654506,
          -0.12686330972457682,
          -0.30779740064186795,
          -0.8418729095532879,
          0.26254360728413495,
          0.9988657050667947,
          -0.5706811854375964,
          -0.3507110279085614,
          -0.27654461313907897,
          -0.2740656557237422,
          1.1223558352675138,
          -0.6231415231762976,
          0.28646675534922317,
          -1.2435400291582877,
          -2.084362597462603,
          -0.3414814354373552,
          -1.5970771442205896,
          1.7502351657357373,
          0.8272591094156599,
          1.6968525327540147,
          -0.5498639885068672,
          0.42378620925243254,
          -0.18808884568593276,
          1.2672000079706354,
          -0.7674212825251933,
          -1.6288424519908633,
          -0.27058303331727535,
          0.5406240059218094,
          -0.3261001364778788,
          -0.5566361819288905,
          -0.19533309626193518,
          0.42807415952941735,
          -0.49988141600558045,
          -0.12396550604431915,
          -0.835297714185431,
          1.034344715408749,
          1.5005387144861366,
          1.3135423163928297,
          0.0714814518888541,
          -0.9436289430423717,
          -1.4776153896990973,
          1.084716578083348,
          0.021221265364736928,
          -0.8322905224201301,
          0.24079852917900396,
          0.4339456871714849,
          0.4602709847008207,
          0.3991059282482683,
          0.7944947348528505,
          0.1045954864673156,
          0.5144254583208872,
          -1.3572395528139622,
          -0.28773155919747967,
          2.1085997547251107,
          0.38061711208683563,
          0.7884589597198923,
          -0.3698302807984111,
          0.3764728282438455,
          0.661686138314875,
          0.10259096181595637,
          -1.3627712137348682,
          -0.3531086197146964,
          1.590933673979694,
          -0.6508129040449687,
          2.301098833504861,
          0.7586594789243861,
          2.0543931510986733,
          0.4133028025397809,
          -1.0672322438828008,
          -0.077942678033842,
          0.13930497563268943,
          0.6121931942594853,
          0.1080274893462382,
          2.724049297213376,
          0.3131994731331599,
          -0.08016694451515405,
          -0.718139624127831,
          0.11441707007946608,
          -0.18970947716336387,
          -1.2053442656263693
         ],
         "y": [
          -0.6715472393396041,
          -0.000801722964834041,
          0.8604493355605674,
          -0.9090550524508654,
          -0.6334909279376151,
          1.2992352490533214,
          0.8848030887685948,
          -0.9970985993352633,
          0.4661684375364792,
          0.4627424897518874,
          0.10399312860384523,
          -0.4764276634231256,
          0.09795137285263107,
          -0.772046078849473,
          1.2121253827681209,
          0.5503383272445095,
          1.2605420343249443,
          0.3256966425315218,
          1.404530241943052,
          -0.19565669581961245,
          1.1242909481691936,
          -0.012005668826752842,
          0.27342403242693686,
          0.7425881605694683,
          1.276478413136653,
          -0.7688967395232191,
          -0.6801285208548822,
          -0.9531189827144676,
          -0.1929734522043615,
          -0.06298121017442079,
          -1.2431387599680561,
          1.2592399155751197,
          -1.2648252760842968,
          0.773062633314733,
          0.06358690157914258,
          -0.20792620777631987,
          0.677085587706638,
          0.3977352944306208,
          -0.6513685796364292,
          -0.9097777185748435,
          -1.6644543975524542,
          -1.3280810566206869,
          0.3720490925698776,
          -0.3095288669909225,
          0.08304374176956202,
          0.3557734693465279,
          0.8549086696916325,
          1.3754368721749597,
          0.4693278196193251,
          -0.13958815029234828,
          -1.0370244961507826,
          0.2963594837111781,
          1.1013156492036626,
          -0.6299899605228564,
          0.2146501616389212,
          0.2582867863854901,
          -0.6987336938007087,
          0.7409925613551784,
          -0.5095559872068226,
          -1.074679342057831,
          0.9759858600738766,
          -0.6343198834069638,
          0.8043384429586501,
          0.4758225944096993,
          -1.1404330972621182,
          -2.7043017036923604,
          -0.6170492676094651,
          -0.009336880677463062,
          0.5182342292979836,
          -0.6646328921947887,
          0.9210499175516096,
          1.0872176518484207,
          0.026504070523214983,
          -1.3652819579702038,
          0.8316097096947186,
          0.6489702412473473,
          0.4728518102185229,
          -0.021824576289325038,
          0.4762488386101103,
          0.3262549783534837,
          -0.3269326929892711,
          0.4464543584926771,
          0.5603702921711851,
          0.09107743690801422,
          1.5385865739892959,
          -0.1335105242542267,
          -1.2694421483604552,
          -0.1269979826032307,
          1.4176588730373763,
          0.08324478186572179,
          -0.8574103110800388,
          0.6508930811498723,
          0.8619689080385344,
          -0.2647000875833217,
          0.6411091368318452,
          0.1852223587080473,
          -1.214543480063297,
          0.35571307447409406,
          -0.10829819644121415,
          -2.032426046200222
         ],
         "z": [
          50.62575605146459,
          -41.12700395947534,
          -62.59858476769969,
          -94.01660111458452,
          -18.12340095611593,
          78.54667985117757,
          65.24065477401503,
          -96.7478052421465,
          -2.0145953754427133,
          -67.16680624887921,
          171.02938816290853,
          61.78633493813626,
          15.321203642232849,
          -43.269309866204594,
          39.01043039648381,
          -50.84628205851169,
          84.45273594867818,
          -48.306194910351806,
          -98.39053232815937,
          68.82518122139939,
          -18.450150396141677,
          39.84863707619063,
          -80.94858915132023,
          11.28186008051199,
          28.905687590873914,
          52.80219824272906,
          -42.50762281990087,
          -4.671234669575249,
          -2.8185831323099997,
          51.54945826343021,
          156.1011092853151,
          -1.802485791101823,
          69.04791952660636,
          35.70553182002904,
          -129.88642175233872,
          24.734940602842514,
          11.18205417756991,
          120.56834042126434,
          60.85357535635176,
          122.58954199720371,
          53.5107325804343,
          98.23570385578856,
          39.176828356905986,
          88.9930777604737,
          -8.668137951608248,
          -48.40511222428201,
          9.65517311368291,
          -62.549330510054745,
          50.4215267955103,
          -22.4641803653988,
          31.998628984041776,
          -27.531096284653156,
          84.1083198462355,
          -69.04642038072954,
          -85.35142382974288,
          97.26003724470351,
          -24.600665513922948,
          6.187416875995702,
          25.968895792675674,
          4.195452810708069,
          -89.62455403786419,
          37.125806186088056,
          1.545284549704137,
          -6.011587552049583,
          13.220602891095204,
          15.717285463846764,
          -57.297506890834704,
          70.19082879246274,
          40.31943593446726,
          -70.99127149447048,
          48.71833660343569,
          -58.12844488591692,
          41.727391323659496,
          11.283027782251068,
          7.530090634826255,
          1.3560475339907612,
          82.07459929350226,
          27.177815066038278,
          55.3390287497174,
          29.478664762296464,
          -6.91757929876173,
          -59.985559181011894,
          14.113744404439693,
          -98.52538496546212,
          68.14044438014595,
          51.786281097005926,
          120.71995318157714,
          82.26293384540901,
          69.70961967909585,
          -9.391461535094685,
          37.5196425156508,
          -13.283867956733577,
          76.88661466205161,
          149.6968380755268,
          37.19884660912585,
          -6.8408088214962675,
          -36.96864652365507,
          -110.22494489097843,
          -39.835321961267496,
          -115.01140050153032
         ]
        },
        {
         "type": "surface",
         "x": [
          -5,
          -3.888888888888889,
          -2.7777777777777777,
          -1.6666666666666665,
          -0.5555555555555554,
          0.5555555555555554,
          1.666666666666667,
          2.7777777777777786,
          3.8888888888888893,
          5
         ],
         "y": [
          -5,
          -3.888888888888889,
          -2.7777777777777777,
          -1.6666666666666665,
          -0.5555555555555554,
          0.5555555555555554,
          1.666666666666667,
          2.7777777777777786,
          3.8888888888888893,
          5
         ],
         "z": [
          [
           -179.88958551585506,
           -141.7306624074435,
           -103.57173929903193,
           -65.41281619062036,
           -27.253893082208798,
           10.905030026202748,
           49.06395313461433,
           87.22287624302591,
           125.38179935143746,
           163.540722459849
          ],
          [
           -176.00605200747515,
           -137.8471288990636,
           -99.688205790652,
           -61.529282682240435,
           -23.37035957382887,
           14.788563534582678,
           52.94748664299426,
           91.10640975140583,
           129.2653328598174,
           167.42425596822892
          ],
          [
           -172.12251849909518,
           -133.96359539068362,
           -95.80467228227208,
           -57.64574917386051,
           -19.486826065448945,
           18.672097042962605,
           56.83102015137418,
           94.98994325978576,
           133.14886636819733,
           171.3077894766089
          ],
          [
           -168.23898499071527,
           -130.0800618823037,
           -91.92113877389214,
           -53.76221566548058,
           -15.603292557069015,
           22.55563055134253,
           60.71455365975412,
           98.87347676816569,
           137.03239987657724,
           175.1913229849888
          ],
          [
           -164.35545148233535,
           -126.19652837392378,
           -88.03760526551221,
           -49.878682157100656,
           -11.719759048689088,
           26.43916405972246,
           64.59808716813404,
           102.75701027654563,
           140.91593338495716,
           179.0748564933687
          ],
          [
           -160.47191797395544,
           -122.31299486554384,
           -84.15407175713229,
           -45.99514864872073,
           -7.836225540309162,
           30.322697568102388,
           68.48162067651397,
           106.64054378492555,
           144.79946689333713,
           182.95839000174863
          ],
          [
           -156.58838446557547,
           -118.42946135716393,
           -80.27053824875236,
           -42.111615140340795,
           -3.9526920319292316,
           34.20623107648232,
           72.3651541848939,
           110.52407729330548,
           148.68300040171704,
           186.8419235101286
          ],
          [
           -152.70485095719556,
           -114.545927848784,
           -76.38700474037243,
           -38.22808163196087,
           -0.0691585235493033,
           38.089764584862245,
           76.24868769327382,
           114.40761080168541,
           152.56653391009695,
           190.7254570185085
          ],
          [
           -148.82131744881565,
           -110.66239434040408,
           -72.5034712319925,
           -34.34454812358094,
           3.814374984830623,
           41.97329809324217,
           80.13222120165375,
           118.29114431006533,
           156.45006741847686,
           194.60899052688842
          ],
          [
           -144.93778394043568,
           -106.77886083202414,
           -68.61993772361258,
           -30.461014615201016,
           7.6979084932105515,
           45.8568316016221,
           84.01575471003368,
           122.17467781844526,
           160.33360092685683,
           198.4925240352684
          ]
         ]
        }
       ],
       "layout": {
        "legend": {
         "tracegroupgap": 0
        },
        "margin": {
         "t": 60
        },
        "scene": {
         "domain": {
          "x": [
           0,
           1
          ],
          "y": [
           0,
           1
          ]
         },
         "xaxis": {
          "title": {
           "text": "features1"
          }
         },
         "yaxis": {
          "title": {
           "text": "features2"
          }
         },
         "zaxis": {
          "title": {
           "text": "target"
          }
         }
        },
        "template": {
         "data": {
          "bar": [
           {
            "error_x": {
             "color": "#2a3f5f"
            },
            "error_y": {
             "color": "#2a3f5f"
            },
            "marker": {
             "line": {
              "color": "#E5ECF6",
              "width": 0.5
             },
             "pattern": {
              "fillmode": "overlay",
              "size": 10,
              "solidity": 0.2
             }
            },
            "type": "bar"
           }
          ],
          "barpolar": [
           {
            "marker": {
             "line": {
              "color": "#E5ECF6",
              "width": 0.5
             },
             "pattern": {
              "fillmode": "overlay",
              "size": 10,
              "solidity": 0.2
             }
            },
            "type": "barpolar"
           }
          ],
          "carpet": [
           {
            "aaxis": {
             "endlinecolor": "#2a3f5f",
             "gridcolor": "white",
             "linecolor": "white",
             "minorgridcolor": "white",
             "startlinecolor": "#2a3f5f"
            },
            "baxis": {
             "endlinecolor": "#2a3f5f",
             "gridcolor": "white",
             "linecolor": "white",
             "minorgridcolor": "white",
             "startlinecolor": "#2a3f5f"
            },
            "type": "carpet"
           }
          ],
          "choropleth": [
           {
            "colorbar": {
             "outlinewidth": 0,
             "ticks": ""
            },
            "type": "choropleth"
           }
          ],
          "contour": [
           {
            "colorbar": {
             "outlinewidth": 0,
             "ticks": ""
            },
            "colorscale": [
             [
              0,
              "#0d0887"
             ],
             [
              0.1111111111111111,
              "#46039f"
             ],
             [
              0.2222222222222222,
              "#7201a8"
             ],
             [
              0.3333333333333333,
              "#9c179e"
             ],
             [
              0.4444444444444444,
              "#bd3786"
             ],
             [
              0.5555555555555556,
              "#d8576b"
             ],
             [
              0.6666666666666666,
              "#ed7953"
             ],
             [
              0.7777777777777778,
              "#fb9f3a"
             ],
             [
              0.8888888888888888,
              "#fdca26"
             ],
             [
              1,
              "#f0f921"
             ]
            ],
            "type": "contour"
           }
          ],
          "contourcarpet": [
           {
            "colorbar": {
             "outlinewidth": 0,
             "ticks": ""
            },
            "type": "contourcarpet"
           }
          ],
          "heatmap": [
           {
            "colorbar": {
             "outlinewidth": 0,
             "ticks": ""
            },
            "colorscale": [
             [
              0,
              "#0d0887"
             ],
             [
              0.1111111111111111,
              "#46039f"
             ],
             [
              0.2222222222222222,
              "#7201a8"
             ],
             [
              0.3333333333333333,
              "#9c179e"
             ],
             [
              0.4444444444444444,
              "#bd3786"
             ],
             [
              0.5555555555555556,
              "#d8576b"
             ],
             [
              0.6666666666666666,
              "#ed7953"
             ],
             [
              0.7777777777777778,
              "#fb9f3a"
             ],
             [
              0.8888888888888888,
              "#fdca26"
             ],
             [
              1,
              "#f0f921"
             ]
            ],
            "type": "heatmap"
           }
          ],
          "heatmapgl": [
           {
            "colorbar": {
             "outlinewidth": 0,
             "ticks": ""
            },
            "colorscale": [
             [
              0,
              "#0d0887"
             ],
             [
              0.1111111111111111,
              "#46039f"
             ],
             [
              0.2222222222222222,
              "#7201a8"
             ],
             [
              0.3333333333333333,
              "#9c179e"
             ],
             [
              0.4444444444444444,
              "#bd3786"
             ],
             [
              0.5555555555555556,
              "#d8576b"
             ],
             [
              0.6666666666666666,
              "#ed7953"
             ],
             [
              0.7777777777777778,
              "#fb9f3a"
             ],
             [
              0.8888888888888888,
              "#fdca26"
             ],
             [
              1,
              "#f0f921"
             ]
            ],
            "type": "heatmapgl"
           }
          ],
          "histogram": [
           {
            "marker": {
             "pattern": {
              "fillmode": "overlay",
              "size": 10,
              "solidity": 0.2
             }
            },
            "type": "histogram"
           }
          ],
          "histogram2d": [
           {
            "colorbar": {
             "outlinewidth": 0,
             "ticks": ""
            },
            "colorscale": [
             [
              0,
              "#0d0887"
             ],
             [
              0.1111111111111111,
              "#46039f"
             ],
             [
              0.2222222222222222,
              "#7201a8"
             ],
             [
              0.3333333333333333,
              "#9c179e"
             ],
             [
              0.4444444444444444,
              "#bd3786"
             ],
             [
              0.5555555555555556,
              "#d8576b"
             ],
             [
              0.6666666666666666,
              "#ed7953"
             ],
             [
              0.7777777777777778,
              "#fb9f3a"
             ],
             [
              0.8888888888888888,
              "#fdca26"
             ],
             [
              1,
              "#f0f921"
             ]
            ],
            "type": "histogram2d"
           }
          ],
          "histogram2dcontour": [
           {
            "colorbar": {
             "outlinewidth": 0,
             "ticks": ""
            },
            "colorscale": [
             [
              0,
              "#0d0887"
             ],
             [
              0.1111111111111111,
              "#46039f"
             ],
             [
              0.2222222222222222,
              "#7201a8"
             ],
             [
              0.3333333333333333,
              "#9c179e"
             ],
             [
              0.4444444444444444,
              "#bd3786"
             ],
             [
              0.5555555555555556,
              "#d8576b"
             ],
             [
              0.6666666666666666,
              "#ed7953"
             ],
             [
              0.7777777777777778,
              "#fb9f3a"
             ],
             [
              0.8888888888888888,
              "#fdca26"
             ],
             [
              1,
              "#f0f921"
             ]
            ],
            "type": "histogram2dcontour"
           }
          ],
          "mesh3d": [
           {
            "colorbar": {
             "outlinewidth": 0,
             "ticks": ""
            },
            "type": "mesh3d"
           }
          ],
          "parcoords": [
           {
            "line": {
             "colorbar": {
              "outlinewidth": 0,
              "ticks": ""
             }
            },
            "type": "parcoords"
           }
          ],
          "pie": [
           {
            "automargin": true,
            "type": "pie"
           }
          ],
          "scatter": [
           {
            "fillpattern": {
             "fillmode": "overlay",
             "size": 10,
             "solidity": 0.2
            },
            "type": "scatter"
           }
          ],
          "scatter3d": [
           {
            "line": {
             "colorbar": {
              "outlinewidth": 0,
              "ticks": ""
             }
            },
            "marker": {
             "colorbar": {
              "outlinewidth": 0,
              "ticks": ""
             }
            },
            "type": "scatter3d"
           }
          ],
          "scattercarpet": [
           {
            "marker": {
             "colorbar": {
              "outlinewidth": 0,
              "ticks": ""
             }
            },
            "type": "scattercarpet"
           }
          ],
          "scattergeo": [
           {
            "marker": {
             "colorbar": {
              "outlinewidth": 0,
              "ticks": ""
             }
            },
            "type": "scattergeo"
           }
          ],
          "scattergl": [
           {
            "marker": {
             "colorbar": {
              "outlinewidth": 0,
              "ticks": ""
             }
            },
            "type": "scattergl"
           }
          ],
          "scattermapbox": [
           {
            "marker": {
             "colorbar": {
              "outlinewidth": 0,
              "ticks": ""
             }
            },
            "type": "scattermapbox"
           }
          ],
          "scatterpolar": [
           {
            "marker": {
             "colorbar": {
              "outlinewidth": 0,
              "ticks": ""
             }
            },
            "type": "scatterpolar"
           }
          ],
          "scatterpolargl": [
           {
            "marker": {
             "colorbar": {
              "outlinewidth": 0,
              "ticks": ""
             }
            },
            "type": "scatterpolargl"
           }
          ],
          "scatterternary": [
           {
            "marker": {
             "colorbar": {
              "outlinewidth": 0,
              "ticks": ""
             }
            },
            "type": "scatterternary"
           }
          ],
          "surface": [
           {
            "colorbar": {
             "outlinewidth": 0,
             "ticks": ""
            },
            "colorscale": [
             [
              0,
              "#0d0887"
             ],
             [
              0.1111111111111111,
              "#46039f"
             ],
             [
              0.2222222222222222,
              "#7201a8"
             ],
             [
              0.3333333333333333,
              "#9c179e"
             ],
             [
              0.4444444444444444,
              "#bd3786"
             ],
             [
              0.5555555555555556,
              "#d8576b"
             ],
             [
              0.6666666666666666,
              "#ed7953"
             ],
             [
              0.7777777777777778,
              "#fb9f3a"
             ],
             [
              0.8888888888888888,
              "#fdca26"
             ],
             [
              1,
              "#f0f921"
             ]
            ],
            "type": "surface"
           }
          ],
          "table": [
           {
            "cells": {
             "fill": {
              "color": "#EBF0F8"
             },
             "line": {
              "color": "white"
             }
            },
            "header": {
             "fill": {
              "color": "#C8D4E3"
             },
             "line": {
              "color": "white"
             }
            },
            "type": "table"
           }
          ]
         },
         "layout": {
          "annotationdefaults": {
           "arrowcolor": "#2a3f5f",
           "arrowhead": 0,
           "arrowwidth": 1
          },
          "autotypenumbers": "strict",
          "coloraxis": {
           "colorbar": {
            "outlinewidth": 0,
            "ticks": ""
           }
          },
          "colorscale": {
           "diverging": [
            [
             0,
             "#8e0152"
            ],
            [
             0.1,
             "#c51b7d"
            ],
            [
             0.2,
             "#de77ae"
            ],
            [
             0.3,
             "#f1b6da"
            ],
            [
             0.4,
             "#fde0ef"
            ],
            [
             0.5,
             "#f7f7f7"
            ],
            [
             0.6,
             "#e6f5d0"
            ],
            [
             0.7,
             "#b8e186"
            ],
            [
             0.8,
             "#7fbc41"
            ],
            [
             0.9,
             "#4d9221"
            ],
            [
             1,
             "#276419"
            ]
           ],
           "sequential": [
            [
             0,
             "#0d0887"
            ],
            [
             0.1111111111111111,
             "#46039f"
            ],
            [
             0.2222222222222222,
             "#7201a8"
            ],
            [
             0.3333333333333333,
             "#9c179e"
            ],
            [
             0.4444444444444444,
             "#bd3786"
            ],
            [
             0.5555555555555556,
             "#d8576b"
            ],
            [
             0.6666666666666666,
             "#ed7953"
            ],
            [
             0.7777777777777778,
             "#fb9f3a"
            ],
            [
             0.8888888888888888,
             "#fdca26"
            ],
            [
             1,
             "#f0f921"
            ]
           ],
           "sequentialminus": [
            [
             0,
             "#0d0887"
            ],
            [
             0.1111111111111111,
             "#46039f"
            ],
            [
             0.2222222222222222,
             "#7201a8"
            ],
            [
             0.3333333333333333,
             "#9c179e"
            ],
            [
             0.4444444444444444,
             "#bd3786"
            ],
            [
             0.5555555555555556,
             "#d8576b"
            ],
            [
             0.6666666666666666,
             "#ed7953"
            ],
            [
             0.7777777777777778,
             "#fb9f3a"
            ],
            [
             0.8888888888888888,
             "#fdca26"
            ],
            [
             1,
             "#f0f921"
            ]
           ]
          },
          "colorway": [
           "#636efa",
           "#EF553B",
           "#00cc96",
           "#ab63fa",
           "#FFA15A",
           "#19d3f3",
           "#FF6692",
           "#B6E880",
           "#FF97FF",
           "#FECB52"
          ],
          "font": {
           "color": "#2a3f5f"
          },
          "geo": {
           "bgcolor": "white",
           "lakecolor": "white",
           "landcolor": "#E5ECF6",
           "showlakes": true,
           "showland": true,
           "subunitcolor": "white"
          },
          "hoverlabel": {
           "align": "left"
          },
          "hovermode": "closest",
          "mapbox": {
           "style": "light"
          },
          "paper_bgcolor": "white",
          "plot_bgcolor": "#E5ECF6",
          "polar": {
           "angularaxis": {
            "gridcolor": "white",
            "linecolor": "white",
            "ticks": ""
           },
           "bgcolor": "#E5ECF6",
           "radialaxis": {
            "gridcolor": "white",
            "linecolor": "white",
            "ticks": ""
           }
          },
          "scene": {
           "xaxis": {
            "backgroundcolor": "#E5ECF6",
            "gridcolor": "white",
            "gridwidth": 2,
            "linecolor": "white",
            "showbackground": true,
            "ticks": "",
            "zerolinecolor": "white"
           },
           "yaxis": {
            "backgroundcolor": "#E5ECF6",
            "gridcolor": "white",
            "gridwidth": 2,
            "linecolor": "white",
            "showbackground": true,
            "ticks": "",
            "zerolinecolor": "white"
           },
           "zaxis": {
            "backgroundcolor": "#E5ECF6",
            "gridcolor": "white",
            "gridwidth": 2,
            "linecolor": "white",
            "showbackground": true,
            "ticks": "",
            "zerolinecolor": "white"
           }
          },
          "shapedefaults": {
           "line": {
            "color": "#2a3f5f"
           }
          },
          "ternary": {
           "aaxis": {
            "gridcolor": "white",
            "linecolor": "white",
            "ticks": ""
           },
           "baxis": {
            "gridcolor": "white",
            "linecolor": "white",
            "ticks": ""
           },
           "bgcolor": "#E5ECF6",
           "caxis": {
            "gridcolor": "white",
            "linecolor": "white",
            "ticks": ""
           }
          },
          "title": {
           "x": 0.05
          },
          "xaxis": {
           "automargin": true,
           "gridcolor": "white",
           "linecolor": "white",
           "ticks": "",
           "title": {
            "standoff": 15
           },
           "zerolinecolor": "white",
           "zerolinewidth": 2
          },
          "yaxis": {
           "automargin": true,
           "gridcolor": "white",
           "linecolor": "white",
           "ticks": "",
           "title": {
            "standoff": 15
           },
           "zerolinecolor": "white",
           "zerolinewidth": 2
          }
         }
        }
       }
      }
     },
     "metadata": {},
     "output_type": "display_data"
    }
   ],
   "source": [
    "x=np.linspace(-5,5,10)\n",
    "y=np.linspace(-5,5,10)\n",
    "xGrid,yGrid=np.meshgrid(x,y)\n",
    "final=np.vstack((xGrid.ravel().reshape(1,100),yGrid.ravel().reshape(1,100))).T\n",
    "z_final=lr.predict(final).reshape(10,10)\n",
    "z=z_final\n",
    "\n",
    "fig=px.scatter_3d(df,x='features1',y='features2',z='target')\n",
    "fig.add_trace(go.Surface(x=x,y=y,z=z))\n",
    "fig.show()"
   ]
  },
  {
   "cell_type": "code",
   "execution_count": 17,
   "metadata": {},
   "outputs": [
    {
     "data": {
      "text/plain": [
       "array([34.3430308 ,  3.49518016])"
      ]
     },
     "execution_count": 17,
     "metadata": {},
     "output_type": "execute_result"
    }
   ],
   "source": [
    "lr.coef_\n"
   ]
  },
  {
   "cell_type": "code",
   "execution_count": 18,
   "metadata": {},
   "outputs": [
    {
     "data": {
      "text/plain": [
       "9.30146925970665"
      ]
     },
     "execution_count": 18,
     "metadata": {},
     "output_type": "execute_result"
    }
   ],
   "source": [
    "lr.intercept_"
   ]
  },
  {
   "cell_type": "code",
   "execution_count": null,
   "metadata": {},
   "outputs": [],
   "source": []
  }
 ],
 "metadata": {
  "kernelspec": {
   "display_name": "Python 3",
   "language": "python",
   "name": "python3"
  },
  "language_info": {
   "codemirror_mode": {
    "name": "ipython",
    "version": 3
   },
   "file_extension": ".py",
   "mimetype": "text/x-python",
   "name": "python",
   "nbconvert_exporter": "python",
   "pygments_lexer": "ipython3",
   "version": "3.11.3"
  },
  "orig_nbformat": 4
 },
 "nbformat": 4,
 "nbformat_minor": 2
}
